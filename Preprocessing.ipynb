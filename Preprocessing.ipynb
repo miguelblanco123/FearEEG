{
 "cells": [
  {
   "cell_type": "code",
   "execution_count": null,
   "metadata": {},
   "outputs": [],
   "source": [
    "import pandas as pd\n",
    "from scipy.io import loadmat\n",
    "\n",
    "\n",
    "def process_data():\n",
    "    '''\n",
    "    Takes the raw EEG signals as .mat files, concatenates all trials per \n",
    "    patient and adds the corresponding emotion according to the session_labels\n",
    "    given by the dataset creators. Then saves the dataframes as csv for each patient. \n",
    "    '''\n",
    "    \n",
    "    session_label = [[1,2,3,0,2,0,0,1,0,1,2,1,1,1,2,3,2,2,3,3,0,3,0,3],\n",
    "                    [2,1,3,0,0,2,0,2,3,3,2,3,2,0,1,1,2,1,0,3,0,1,3,1],\n",
    "                    [1,2,2,1,3,3,3,1,1,2,1,0,2,3,3,0,2,3,0,0,2,0,1,0]]\n",
    "\n",
    "    for i in range(1,4):\n",
    "        for j in range (1,16):\n",
    "            full_eeg = pd.DataFrame()\n",
    "            filepath = loadmat(f'Data//eeg_raw_data//{i}//{i}_{j}.mat')\n",
    "            data_keys = list(filepath.keys())\n",
    "            name = data_keys[3]\n",
    "            eegpath = name.split(\"_\")[0]\n",
    "\n",
    "            for k in range (0,24):\n",
    "                eeg = filepath[f'{eegpath}_eeg{k+1}'].transpose()\n",
    "                eeg_df = pd.DataFrame(eeg)\n",
    "                eeg_df['session'] = session_label[i][k]\n",
    "                full_eeg = pd.concat([full_eeg, eeg_df], ignore_index=True)\n",
    "                \n",
    "            full_eeg.to_csv(f'out//{i}//{i}_{j}.csv', index=False)\n",
    "            print(f'out//{i}//{i}_{j}.csv')\n",
    "\n",
    "process_data()"
   ]
  }
 ],
 "metadata": {
  "kernelspec": {
   "display_name": "NeuroEmociones",
   "language": "python",
   "name": "python3"
  },
  "language_info": {
   "codemirror_mode": {
    "name": "ipython",
    "version": 3
   },
   "file_extension": ".py",
   "mimetype": "text/x-python",
   "name": "python",
   "nbconvert_exporter": "python",
   "pygments_lexer": "ipython3",
   "version": "3.8.18"
  }
 },
 "nbformat": 4,
 "nbformat_minor": 2
}
